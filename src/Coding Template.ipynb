{
 "cells": [
  {
   "cell_type": "markdown",
   "metadata": {},
   "source": [
    "### Template"
   ]
  },
  {
   "cell_type": "code",
   "execution_count": 1,
   "metadata": {},
   "outputs": [],
   "source": [
    "import pandas as pd\n",
    "import numpy as np\n",
    "import seaborn as sns\n",
    "import matplotlib.pyplot as plt\n",
    "\n",
    "pd.options.mode.chained_assignment = None "
   ]
  },
  {
   "cell_type": "code",
   "execution_count": 4,
   "metadata": {},
   "outputs": [
    {
     "data": {
      "text/html": [
       "<div>\n",
       "<style scoped>\n",
       "    .dataframe tbody tr th:only-of-type {\n",
       "        vertical-align: middle;\n",
       "    }\n",
       "\n",
       "    .dataframe tbody tr th {\n",
       "        vertical-align: top;\n",
       "    }\n",
       "\n",
       "    .dataframe thead th {\n",
       "        text-align: right;\n",
       "    }\n",
       "</style>\n",
       "<table border=\"1\" class=\"dataframe\">\n",
       "  <thead>\n",
       "    <tr style=\"text-align: right;\">\n",
       "      <th></th>\n",
       "      <th>id</th>\n",
       "      <th>period_id</th>\n",
       "      <th>forecast_demand</th>\n",
       "      <th>date_time_current</th>\n",
       "      <th>date_time_future</th>\n",
       "      <th>date_time_current_rounded</th>\n",
       "      <th>total_demand</th>\n",
       "      <th>temperature_future</th>\n",
       "      <th>temperature_current</th>\n",
       "      <th>forecast_interval</th>\n",
       "    </tr>\n",
       "  </thead>\n",
       "  <tbody>\n",
       "    <tr>\n",
       "      <th>4577277</th>\n",
       "      <td>2014092648</td>\n",
       "      <td>22</td>\n",
       "      <td>6736.28</td>\n",
       "      <td>2014-09-27 03:30:54</td>\n",
       "      <td>2014-09-27 14:30:00</td>\n",
       "      <td>2014-09-27 03:30:00</td>\n",
       "      <td>6751.18</td>\n",
       "      <td>18.7</td>\n",
       "      <td>13.8</td>\n",
       "      <td>0 days 11:00:00</td>\n",
       "    </tr>\n",
       "    <tr>\n",
       "      <th>6038861</th>\n",
       "      <td>2016032947</td>\n",
       "      <td>15</td>\n",
       "      <td>8500.59</td>\n",
       "      <td>2016-03-30 03:01:15</td>\n",
       "      <td>2016-03-30 10:30:00</td>\n",
       "      <td>2016-03-30 03:00:00</td>\n",
       "      <td>8393.22</td>\n",
       "      <td>24.6</td>\n",
       "      <td>18.8</td>\n",
       "      <td>0 days 07:30:00</td>\n",
       "    </tr>\n",
       "    <tr>\n",
       "      <th>747283</th>\n",
       "      <td>2010101710</td>\n",
       "      <td>27</td>\n",
       "      <td>7728.24</td>\n",
       "      <td>2010-10-17 08:30:51</td>\n",
       "      <td>2010-10-17 22:00:00</td>\n",
       "      <td>2010-10-17 08:30:00</td>\n",
       "      <td>7788.09</td>\n",
       "      <td>14.1</td>\n",
       "      <td>15.0</td>\n",
       "      <td>0 days 13:30:00</td>\n",
       "    </tr>\n",
       "    <tr>\n",
       "      <th>9217919</th>\n",
       "      <td>2019071145</td>\n",
       "      <td>50</td>\n",
       "      <td>7017.72</td>\n",
       "      <td>2019-07-12 02:01:25</td>\n",
       "      <td>2019-07-13 03:00:00</td>\n",
       "      <td>2019-07-12 02:00:00</td>\n",
       "      <td>6877.00</td>\n",
       "      <td>15.2</td>\n",
       "      <td>8.3</td>\n",
       "      <td>1 days 01:00:00</td>\n",
       "    </tr>\n",
       "    <tr>\n",
       "      <th>2233916</th>\n",
       "      <td>2012042923</td>\n",
       "      <td>16</td>\n",
       "      <td>7831.51</td>\n",
       "      <td>2012-04-29 15:01:24</td>\n",
       "      <td>2012-04-29 23:00:00</td>\n",
       "      <td>2012-04-29 15:00:00</td>\n",
       "      <td>7773.63</td>\n",
       "      <td>10.7</td>\n",
       "      <td>18.1</td>\n",
       "      <td>0 days 08:00:00</td>\n",
       "    </tr>\n",
       "  </tbody>\n",
       "</table>\n",
       "</div>"
      ],
      "text/plain": [
       "                 id  period_id  forecast_demand   date_time_current  \\\n",
       "4577277  2014092648         22          6736.28 2014-09-27 03:30:54   \n",
       "6038861  2016032947         15          8500.59 2016-03-30 03:01:15   \n",
       "747283   2010101710         27          7728.24 2010-10-17 08:30:51   \n",
       "9217919  2019071145         50          7017.72 2019-07-12 02:01:25   \n",
       "2233916  2012042923         16          7831.51 2012-04-29 15:01:24   \n",
       "\n",
       "           date_time_future date_time_current_rounded  total_demand  \\\n",
       "4577277 2014-09-27 14:30:00       2014-09-27 03:30:00       6751.18   \n",
       "6038861 2016-03-30 10:30:00       2016-03-30 03:00:00       8393.22   \n",
       "747283  2010-10-17 22:00:00       2010-10-17 08:30:00       7788.09   \n",
       "9217919 2019-07-13 03:00:00       2019-07-12 02:00:00       6877.00   \n",
       "2233916 2012-04-29 23:00:00       2012-04-29 15:00:00       7773.63   \n",
       "\n",
       "         temperature_future  temperature_current forecast_interval  \n",
       "4577277                18.7                 13.8   0 days 11:00:00  \n",
       "6038861                24.6                 18.8   0 days 07:30:00  \n",
       "747283                 14.1                 15.0   0 days 13:30:00  \n",
       "9217919                15.2                  8.3   1 days 01:00:00  \n",
       "2233916                10.7                 18.1   0 days 08:00:00  "
      ]
     },
     "execution_count": 4,
     "metadata": {},
     "output_type": "execute_result"
    }
   ],
   "source": [
    "# Read and format data\n",
    "path = 'data/combined_data.csv' #change path\n",
    "\n",
    "df_all = pd.read_csv(path)\n",
    "df_all.date_time_current = pd.to_datetime(df_all.date_time_current, format = \"%Y-%m-%d %H:%M:%S\")\n",
    "df_all.date_time_future = pd.to_datetime(df_all.date_time_future, format = \"%Y-%m-%d %H:%M:%S\")\n",
    "df_all.date_time_current_rounded = pd.to_datetime(df_all.date_time_current_rounded, format = \"%Y-%m-%d %H:%M:%S\")\n",
    "\n",
    "df_all[\"forecast_interval\"] = df_all.date_time_future - df_all.date_time_current_rounded\n",
    "df_all[\"forecast_error\"] = df_all.total_demand - df_all.forecast_demand"
   ]
  },
  {
   "cell_type": "code",
   "execution_count": 10,
   "metadata": {},
   "outputs": [
    {
     "data": {
      "text/plain": [
       "0           2010-01-01\n",
       "1           2010-01-01\n",
       "2           2010-01-01\n",
       "3           2010-01-01\n",
       "4           2010-01-01\n",
       "               ...    \n",
       "10853882    2021-03-17\n",
       "10853883    2021-03-17\n",
       "10853884    2021-03-17\n",
       "10853885    2021-03-17\n",
       "10853886    2021-03-17\n",
       "Name: date_time_current, Length: 10853887, dtype: object"
      ]
     },
     "execution_count": 10,
     "metadata": {},
     "output_type": "execute_result"
    }
   ],
   "source": [
    "# Tip: use pandas' in-built dateTime to manipulate/extract date variable (example below)\n",
    "df_all.date_time_current.dt.date"
   ]
  },
  {
   "cell_type": "code",
   "execution_count": null,
   "metadata": {},
   "outputs": [],
   "source": []
  }
 ],
 "metadata": {
  "kernelspec": {
   "display_name": "Python 3",
   "language": "python",
   "name": "python3"
  },
  "language_info": {
   "codemirror_mode": {
    "name": "ipython",
    "version": 3
   },
   "file_extension": ".py",
   "mimetype": "text/x-python",
   "name": "python",
   "nbconvert_exporter": "python",
   "pygments_lexer": "ipython3",
   "version": "3.7.6"
  }
 },
 "nbformat": 4,
 "nbformat_minor": 4
}
