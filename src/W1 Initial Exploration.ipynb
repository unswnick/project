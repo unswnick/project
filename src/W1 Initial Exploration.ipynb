{
 "cells": [
  {
   "cell_type": "code",
   "execution_count": 1,
   "metadata": {},
   "outputs": [],
   "source": [
    "import pandas as pd\n",
    "import numpy as np\n",
    "import seaborn as sns\n",
    "import matplotlib.pyplot as plt"
   ]
  },
  {
   "cell_type": "markdown",
   "metadata": {},
   "source": [
    "### Notes\n",
    "Data Exploration:\n",
    "- Electricity demand is for NSW\n",
    "- Temperature is for just Bankstown\n",
    "- Different time spacings between electricity demand and temperature\n",
    "\n",
    "Forecasting analysis:\n",
    "- Clear trend between temperature and forecasting inaccuracy\n",
    "    - Observed in both actual error and relative error\n",
    "    - Inaccuracy is greater at extremely hot temperatures"
   ]
  },
  {
   "cell_type": "code",
   "execution_count": 3,
   "metadata": {},
   "outputs": [],
   "source": [
    "df_temperature = pd.read_csv('data/temperature_nsw.csv', names = ['location', 'date_time', 'temperature'], skiprows = 1)\n",
    "df_temperature.date_time = pd.to_datetime(df_temperature.date_time, format = \"%d/%m/%Y %H:%M\")\n",
    "\n",
    "df_demand = pd.read_csv('data/totaldemand_nsw.csv', names = ['date_time', 'total_demand', 'region_id'], skiprows = 1)\n",
    "df_demand.date_time = pd.to_datetime(df_demand.date_time, format = \"%d/%m/%Y %H:%M\")\n",
    "\n",
    "df_forecast = pd.read_csv('data/forecastdemand_nsw.csv', names = ['id', 'region_id', 'period_id', 'forecast_demand', 'date_time_forecast', 'date_time_prediction'], skiprows = 1)\n",
    "df_forecast.date_time_forecast = pd.to_datetime(df_forecast.date_time_forecast, format = \"%Y-%m-%d %H:%M:%S\")\n",
    "df_forecast.date_time_prediction = pd.to_datetime(df_forecast.date_time_prediction, format = \"%Y-%m-%d %H:%M:%S\")"
   ]
  },
  {
   "cell_type": "code",
   "execution_count": null,
   "metadata": {},
   "outputs": [],
   "source": [
    "# Exploration - Temperature Dataset\n",
    "print(\"Locations = {}\".format(set(df_temperature.location)))\n",
    "print(\"Date Min = {}  |  Date Max = {}\".format(df_temperature.date_time.min(), df_temperature.date_time.max()))\n",
    "print(\"Temp Min = {}  |  Temp Max = {}\\n\".format(df_temperature.temperature.min(), df_temperature.temperature.max()))\n",
    "print(df_temperature.head())\n",
    "print(\"\\nRows = {}\".format(len(df_temperature)))"
   ]
  },
  {
   "cell_type": "code",
   "execution_count": null,
   "metadata": {},
   "outputs": [],
   "source": [
    "# Exploration - Demand Dataset\n",
    "print(\"Regions = {}\".format(set(df_demand.region_id)))\n",
    "print(\"Date Min = {}  |  Date Max = {}\".format(df_demand.date_time.min(), df_demand.date_time.max()))\n",
    "print(\"Demand Min = {}  |  Demand Max = {}\\n\".format(df_demand.total_demand.min(), df_demand.total_demand.max()))\n",
    "print(df_demand.head())\n",
    "print(\"\\nRows = {}\".format(len(df_demand)))"
   ]
  },
  {
   "cell_type": "code",
   "execution_count": null,
   "metadata": {},
   "outputs": [],
   "source": [
    "# Exploration - Forecast Dataset\n",
    "print(\"Regions = {}\".format(set(df_forecast.region_id)))\n",
    "#print(\"Periods = {}\".format(set(df_forecast.period_id)))\n",
    "print(\"Forecast Date Min = {}  |  Forecast Date Max = {}\".format(df_forecast.date_time_forecast.min(), df_forecast.date_time_forecast.max()))\n",
    "print(\"Predict Date Min = {}  |  Predict Date Max = {}\".format(df_forecast.date_time_prediction.min(), df_forecast.date_time_prediction.max()))\n",
    "print(\"Forecast Demand Min = {}  |  Forecast Demand Max = {}\\n\".format(df_forecast.forecast_demand.min(), df_forecast.forecast_demand.max()))\n",
    "print(df_forecast.head())\n",
    "print(\"\\nRows = {}\".format(len(df_forecast)))"
   ]
  },
  {
   "cell_type": "code",
   "execution_count": null,
   "metadata": {},
   "outputs": [],
   "source": [
    "#Note: this code chunk may be slow to run\n",
    "#Forecast_interval is the number of hours between prediction and it's forecast\n",
    "interval = 60*60 #sets the interval in seconds\n",
    "df_forecast[\"forecast_interval\"] = df_forecast.date_time_prediction - df_forecast.date_time_forecast\n",
    "df_forecast.forecast_interval = df_forecast.forecast_interval.apply(lambda x: x.total_seconds()/interval)\n",
    "\n",
    "#Rounding forecast time to intervals of 30mins to match df_demand and only have one record where forecast interval is ~24hrs\n",
    "interval_min, interval_max = 23 , 25 #sets a window for forecast periods\n",
    "df_forecast_near24hour = df_forecast.loc[(df_forecast.forecast_interval > interval_min) & (df_forecast.forecast_interval < interval_max)]\n",
    "df_forecast_near24hour[\"date_time_forecast_rounded\"] = df_forecast_near24hour.date_time_forecast.apply(lambda x: x.round(freq='30min'))\n",
    "df_forecast_near24hour_1instance = df_forecast_near24hour.loc[df_forecast_near24hour.groupby(\"date_time_forecast_rounded\")[\"forecast_interval\"].idxmax()]\n",
    "\n",
    "#Merge forecast data with demand data\n",
    "df_forecast_near24hour_1instance_with_demand = pd.merge(df_forecast_near24hour_1instance, df_demand, left_on = \"date_time_forecast_rounded\", right_on = \"date_time\")\n",
    "df_forecast_near24hour_1instance_with_demand[\"forecast_error\"] = df_forecast_near24hour_1instance_with_demand.total_demand - df_forecast_near24hour_1instance_with_demand.forecast_demand"
   ]
  },
  {
   "cell_type": "code",
   "execution_count": null,
   "metadata": {},
   "outputs": [],
   "source": [
    "plot_year = 2018\n",
    "plot_hour = 16\n",
    "\n",
    "df_plot = df_forecast_near24hour_1instance_with_demand.loc[(df_forecast_near24hour_1instance_with_demand.date_time.dt.year == plot_year) & (df_forecast_near24hour_1instance_with_demand.date_time.dt.hour == plot_hour)]\n",
    "\n",
    "plt.figure(figsize = (12,7))\n",
    "plt.subplot(2,1,1)\n",
    "plt.title(\"Forecasting 24h into the future\")\n",
    "plt.plot(df_plot.date_time.dt.dayofyear, df_plot.forecast_demand, label = '{} {}:00 - Demand Forecast'.format(plot_year, plot_hour))\n",
    "plt.plot(df_plot.date_time.dt.dayofyear, df_plot.total_demand, label = '{} {}:00 - Demand Actual'.format(plot_year, plot_hour))\n",
    "plt.legend(loc = 'upper right')\n",
    "\n",
    "plt.subplot(2,1,2)\n",
    "plt.plot(df_plot.date_time.dt.dayofyear, df_plot.forecast_error, 'g.-', label = '{} {}:00 - Error'.format(plot_year, plot_hour))\n",
    "plt.legend(loc = 'upper right')\n",
    "\n",
    "plt.figure(figsize = (5,4))\n",
    "sns.histplot(df_plot.forecast_error, bins = 50);\n",
    "plt.axvline(df_plot.forecast_error.median(), color='r', ls = '--', label = 'median')\n",
    "plt.axvline(df_plot.forecast_error.mean(), color='m', label = 'mean')\n",
    "plt.legend(loc = 'upper right')"
   ]
  },
  {
   "cell_type": "code",
   "execution_count": null,
   "metadata": {},
   "outputs": [],
   "source": [
    "df_forecast_near24hour_1instance_with_demand_temperature = pd.merge(df_forecast_near24hour_1instance_with_demand, df_temperature, left_on = \"date_time_forecast_rounded\", right_on = \"date_time\")\n",
    "df_forecast_near24hour_1instance_with_demand_temperature[\"forecast_error_relative\"] = df_forecast_near24hour_1instance_with_demand_temperature.forecast_error/df_forecast_near24hour_1instance_with_demand_temperature.total_demand\n",
    "\n",
    "df_plot = df_forecast_near24hour_1instance_with_demand_temperature[[\"temperature\", \"forecast_error\", \"forecast_error_relative\"]].copy()\n",
    "df_plot.temperature = df_plot.temperature.round()\n",
    "\n",
    "plt.figure(figsize = (12,7))\n",
    "sns.boxplot(data=df_plot, x=\"temperature\", y=\"forecast_error\", fliersize = 1)\n",
    "plt.axhline(0, color='r', alpha = 0.2)\n",
    "plt.xticks(rotation = 90);\n",
    "plt.title(\"Accuracy of forecasting 24h into the future\")\n",
    "\n",
    "plt.figure(figsize = (12,7))\n",
    "sns.boxplot(data=df_plot, x=\"temperature\", y=\"forecast_error_relative\", fliersize = 1)\n",
    "plt.axhline(0, color='r', alpha = 0.2)\n",
    "plt.xticks(rotation = 90);\n",
    "plt.ylabel(\"Forecast Error as Portion of Actual Demand\")"
   ]
  }
 ],
 "metadata": {
  "kernelspec": {
   "display_name": "Python 3",
   "language": "python",
   "name": "python3"
  },
  "language_info": {
   "codemirror_mode": {
    "name": "ipython",
    "version": 3
   },
   "file_extension": ".py",
   "mimetype": "text/x-python",
   "name": "python",
   "nbconvert_exporter": "python",
   "pygments_lexer": "ipython3",
   "version": "3.7.6"
  }
 },
 "nbformat": 4,
 "nbformat_minor": 5
}
