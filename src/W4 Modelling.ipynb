{
 "cells": [
  {
   "cell_type": "code",
   "execution_count": 1,
   "metadata": {},
   "outputs": [],
   "source": [
    "import pandas as pd\n",
    "import matplotlib.pyplot as plt\n",
    "import numpy as np\n",
    "import seaborn as sns\n",
    "import statsmodels.api as sm\n",
    "import warnings\n",
    "\n",
    "from statsmodels.graphics.tsaplots import plot_acf, plot_pacf\n",
    "from sklearn.metrics import mean_squared_error, mean_absolute_percentage_error\n",
    "from statsmodels.tsa.stattools import adfuller\n",
    "from matplotlib.pyplot import figure\n",
    "from statsmodels.tsa.arima.model import ARIMA\n",
    "from statsmodels.graphics.api import qqplot\n",
    "\n",
    "warnings.filterwarnings('ignore')"
   ]
  },
  {
   "cell_type": "code",
   "execution_count": 2,
   "metadata": {},
   "outputs": [],
   "source": [
    "# Read and format data\n",
    "path = 'data/combined_data_new.csv'\n",
    "df_all = pd.read_csv(path)\n",
    "df_all = df_all.loc[df_all.Temperature.notna()]\n",
    "\n",
    "df_all.date_time_current = pd.to_datetime(df_all.date_time_current, format = \"%Y-%m-%d %H:%M:%S\")\n",
    "df_all.date_time_future = pd.to_datetime(df_all.date_time_future, format = \"%Y-%m-%d %H:%M:%S\")\n",
    "df_all.date_time_current_rounded = pd.to_datetime(df_all.date_time_current_rounded, format = \"%Y-%m-%d %H:%M:%S\")\n",
    "\n",
    "df_all[\"forecast_interval\"] = df_all.date_time_future - df_all.date_time_current_rounded\n",
    "df_all[\"forecast_error\"] = df_all.total_demand - df_all.forecast_demand\n",
    "df_all[\"forecast_error_relative\"] = df_all.forecast_error/df_all.total_demand\n",
    "\n",
    "df_all[\"date_time_future_month\"] = df_all.date_time_future.dt.month\n",
    "df_all[\"date_time_future_year\"] = df_all.date_time_future.dt.year\n",
    "df_all[\"date_time_future_weekday\"] = df_all.date_time_future.dt.dayofweek\n",
    "df_all[\"date_time_future_hour\"] = df_all.date_time_future.dt.hour\n",
    "#df_all[\"date_time_future_yearTime\"] = df_all.date_time_future_year.apply(lambda x: pd.DateOffset(years=x-2000))\n",
    "\n",
    "df_all[\"week_day_name\"] = df_all.date_time_future.dt.day_name()\n",
    "\n",
    "df_all[\"isSaturday\"] = df_all.week_day_name.apply(lambda x: 1 if x == 'Saturday' else 0)\n",
    "df_all[\"isSunday\"] = df_all.week_day_name.apply(lambda x: 1 if x == 'Sunday' else 0)\n",
    "\n",
    "df_all[\"isDecember\"] = df_all.date_time_future_month.apply(lambda x: 1 if x == 12 else 0)\n",
    "df_all[\"isJanuary\"] = df_all.date_time_future_month.apply(lambda x: 1 if x == 1 else 0)\n",
    "df_all[\"isFebruary\"] = df_all.date_time_future_month.apply(lambda x: 1 if x == 2 else 0)\n",
    "df_all[\"isNovember\"] = df_all.date_time_future_month.apply(lambda x: 1 if x == 11 else 0)"
   ]
  },
  {
   "cell_type": "markdown",
   "metadata": {},
   "source": [
    "## Linear Regression\n",
    "Forecast interval = 12h\n",
    "\n",
    "Check: https://realpython.com/linear-regression-in-python/"
   ]
  },
  {
   "cell_type": "markdown",
   "metadata": {},
   "source": [
    "### Existing forecast model"
   ]
  },
  {
   "cell_type": "code",
   "execution_count": 3,
   "metadata": {},
   "outputs": [],
   "source": [
    "delta = 24\n",
    "\n",
    "df_lag = df_all.loc[df_all.period_id == delta].sort_values(\"date_time_future\").reset_index(drop = True)\n",
    "df_lag_temp = df_lag.copy()[[\"forecast_error\", \"forecast_error_relative\", \"date_time_future\"]].rename({\"forecast_error\" : \"forecast_error_24h_ago\", \n",
    "                                                                                                       \"forecast_error_relative\":  \"forecast_error_relative_24h_ago\",\n",
    "                                                                                                       \"date_time_future\": \"date_time_future_24h_ago\"}, axis = 1)\n",
    "df_lag[\"date_time_current_24h_ago\"] = df_lag.date_time_current - pd.DateOffset(hours = 24)\n",
    "df_lag[\"date_time_future_24h_ago\"] = df_lag.date_time_future - pd.DateOffset(hours = 24)\n",
    "\n",
    "df_lag = df_lag.loc[df_lag.date_time_future_24h_ago >= min(df_lag.date_time_future)]\n",
    "df_lag = pd.merge(df_lag, df_lag_temp, on = \"date_time_future_24h_ago\", how = 'left')\n",
    "df_lag = df_lag.loc[df_lag.forecast_error_relative_24h_ago.notna()]\n",
    "\n",
    "train_test_split = 0.7\n",
    "split_int = int(train_test_split * len(df_lag))\n",
    "df_lag_train, df_lag_test = df_lag[:split_int], df_lag[split_int:]"
   ]
  },
  {
   "cell_type": "code",
   "execution_count": 4,
   "metadata": {},
   "outputs": [
    {
     "name": "stdout",
     "output_type": "stream",
     "text": [
      "Existing model MSE = 55159\n",
      "Existing model MAPE = 2.19%\n"
     ]
    }
   ],
   "source": [
    "mse = mean_squared_error(df_lag_test.forecast_demand, df_lag_test.total_demand)\n",
    "mape =  mean_absolute_percentage_error(df_lag_test.forecast_demand, df_lag_test.total_demand)\n",
    "\n",
    "print(f\"Existing model MSE = {round(mse)}\")\n",
    "print(f\"Existing model MAPE = {round(100*mape,2)}%\")"
   ]
  },
  {
   "cell_type": "markdown",
   "metadata": {},
   "source": [
    "### Linear Regression\n",
    "- Forecast Error from 24h ago"
   ]
  },
  {
   "cell_type": "code",
   "execution_count": 8,
   "metadata": {},
   "outputs": [
    {
     "name": "stdout",
     "output_type": "stream",
     "text": [
      "                            OLS Regression Results                            \n",
      "==============================================================================\n",
      "Dep. Variable:                      y   R-squared:                       0.113\n",
      "Model:                            OLS   Adj. R-squared:                  0.113\n",
      "Method:                 Least Squares   F-statistic:                     2696.\n",
      "Date:                Mon, 21 Apr 2025   Prob (F-statistic):               0.00\n",
      "Time:                        18:58:17   Log-Likelihood:            -1.4233e+05\n",
      "No. Observations:               21064   AIC:                         2.847e+05\n",
      "Df Residuals:                   21062   BIC:                         2.847e+05\n",
      "Df Model:                           1                                         \n",
      "Covariance Type:            nonrobust                                         \n",
      "==========================================================================================\n",
      "                             coef    std err          t      P>|t|      [0.025      0.975]\n",
      "------------------------------------------------------------------------------------------\n",
      "const                     10.5613      1.438      7.346      0.000       7.743      13.379\n",
      "forecast_error_24h_ago     0.3369      0.006     51.927      0.000       0.324       0.350\n",
      "==============================================================================\n",
      "Omnibus:                     2737.590   Durbin-Watson:                   0.201\n",
      "Prob(Omnibus):                  0.000   Jarque-Bera (JB):            23155.543\n",
      "Skew:                          -0.344   Prob(JB):                         0.00\n",
      "Kurtosis:                       8.090   Cond. No.                         222.\n",
      "==============================================================================\n",
      "\n",
      "Notes:\n",
      "[1] Standard Errors assume that the covariance matrix of the errors is correctly specified.\n",
      "\n",
      "New model MSE = 49348\n",
      "New model MAPE = 2.06%\n"
     ]
    }
   ],
   "source": [
    "x_columns = [\"forecast_error_24h_ago\"]\n",
    "x = sm.add_constant(df_lag_train[x_columns])\n",
    "x = sm.add_constant(x)\n",
    "y = np.array(df_lag_train.forecast_error)\n",
    "\n",
    "model = sm.OLS(y, x)\n",
    "results = model.fit()\n",
    "print(results.summary())\n",
    "\n",
    "df_lag_test[\"lm_forecast_error_pred\"] = results.predict(sm.add_constant(df_lag_test[x_columns]))\n",
    "df_lag_test[\"lm_forecast_demand_new\"] = df_lag_test.forecast_demand + df_lag_test.lm_forecast_error_pred\n",
    "\n",
    "mse_lm1 = mean_squared_error(df_lag_test.lm_forecast_demand_new, df_lag_test.total_demand)\n",
    "mape_lm1 = mean_absolute_percentage_error(df_lag_test.lm_forecast_demand_new, df_lag_test.total_demand)\n",
    "\n",
    "print(f\"\\nNew model MSE = {round(mse_lm1)}\")\n",
    "print(f\"New model MAPE = {round(100*mape_lm1,3)}%\")"
   ]
  },
  {
   "cell_type": "markdown",
   "metadata": {},
   "source": [
    "### Linear Regression\n",
    "- Forecast Error from 24h ago\n",
    "- Forecast temperature"
   ]
  },
  {
   "cell_type": "code",
   "execution_count": 6,
   "metadata": {},
   "outputs": [
    {
     "name": "stdout",
     "output_type": "stream",
     "text": [
      "                            OLS Regression Results                            \n",
      "==============================================================================\n",
      "Dep. Variable:                      y   R-squared:                       0.124\n",
      "Model:                            OLS   Adj. R-squared:                  0.124\n",
      "Method:                 Least Squares   F-statistic:                     298.6\n",
      "Date:                Mon, 21 Apr 2025   Prob (F-statistic):               0.00\n",
      "Time:                        18:58:14   Log-Likelihood:            -1.4220e+05\n",
      "No. Observations:               21064   AIC:                         2.844e+05\n",
      "Df Residuals:                   21053   BIC:                         2.845e+05\n",
      "Df Model:                          10                                         \n",
      "Covariance Type:            nonrobust                                         \n",
      "==========================================================================================\n",
      "                             coef    std err          t      P>|t|      [0.025      0.975]\n",
      "------------------------------------------------------------------------------------------\n",
      "const                    -56.9012     10.488     -5.425      0.000     -77.458     -36.344\n",
      "forecast_error_24h_ago     0.3306      0.006     51.021      0.000       0.318       0.343\n",
      "Temperature               -1.1963      0.296     -4.040      0.000      -1.777      -0.616\n",
      "Humidity                   0.9220      0.094      9.811      0.000       0.738       1.106\n",
      "Wind_speed                 6.7613      0.927      7.296      0.000       4.945       8.578\n",
      "Rain                      -3.8983      2.807     -1.389      0.165      -9.399       1.603\n",
      "isSaturday                29.1366      4.143      7.033      0.000      21.016      37.257\n",
      "isSunday                   8.2777      4.149      1.995      0.046       0.145      16.410\n",
      "isDecember                20.6354      4.986      4.139      0.000      10.863      30.408\n",
      "isJanuary                 13.2394      5.233      2.530      0.011       2.982      23.497\n",
      "isNovember                10.3352      4.832      2.139      0.032       0.865      19.805\n",
      "==============================================================================\n",
      "Omnibus:                     2701.773   Durbin-Watson:                   0.203\n",
      "Prob(Omnibus):                  0.000   Jarque-Bera (JB):            23691.264\n",
      "Skew:                          -0.315   Prob(JB):                         0.00\n",
      "Kurtosis:                       8.157   Cond. No.                     1.67e+03\n",
      "==============================================================================\n",
      "\n",
      "Notes:\n",
      "[1] Standard Errors assume that the covariance matrix of the errors is correctly specified.\n",
      "[2] The condition number is large, 1.67e+03. This might indicate that there are\n",
      "strong multicollinearity or other numerical problems.\n",
      "\n",
      "New model MSE = 49718\n",
      "New model MAPE = 2.08%\n"
     ]
    }
   ],
   "source": [
    "x_columns = [\"forecast_error_24h_ago\", \"Temperature\", \"Humidity\", \"Wind_speed\", \"Rain\", \"isSaturday\", \"isSunday\", \"isDecember\", \"isJanuary\", \"isNovember\"]\n",
    "x = sm.add_constant(df_lag_train[x_columns])\n",
    "x = sm.add_constant(x)\n",
    "y = np.array(df_lag_train.forecast_error)\n",
    "\n",
    "model = sm.OLS(y, x)\n",
    "results = model.fit()\n",
    "print(results.summary())\n",
    "\n",
    "df_lag_test[\"lm2_forecast_error_pred\"] = results.predict(sm.add_constant(df_lag_test[x_columns]))\n",
    "df_lag_test[\"lm2_forecast_demand_new\"] = df_lag_test.forecast_demand + df_lag_test.lm2_forecast_error_pred\n",
    "\n",
    "mse_lm2 = mean_squared_error(df_lag_test.lm2_forecast_demand_new, df_lag_test.total_demand)\n",
    "mape_lm2 = mean_absolute_percentage_error(df_lag_test.lm2_forecast_demand_new, df_lag_test.total_demand)\n",
    "\n",
    "print(f\"\\nNew model MSE = {round(mse_lm2)}\")\n",
    "print(f\"New model MAPE = {round(100*mape_lm2,2)}%\")"
   ]
  },
  {
   "cell_type": "code",
   "execution_count": 7,
   "metadata": {},
   "outputs": [
    {
     "name": "stdout",
     "output_type": "stream",
     "text": [
      "\n",
      "Model 1 MSE = 49348\n",
      "Model 1 MAPE = 2.06%\n",
      "\n",
      "Model 2 MSE = 49718\n",
      "Model 2 MAPE = 2.078%\n"
     ]
    }
   ],
   "source": [
    "print(f\"\\nModel 1 MSE = {round(mse_lm1)}\")\n",
    "print(f\"Model 1 MAPE = {round(100*mape_lm1,3)}%\")\n",
    "print(f\"\\nModel 2 MSE = {round(mse_lm2)}\")\n",
    "print(f\"Model 2 MAPE = {round(100*mape_lm2,3)}%\")"
   ]
  },
  {
   "cell_type": "code",
   "execution_count": 11,
   "metadata": {},
   "outputs": [],
   "source": [
    "df_lag_test[[\"date_time_future\", \"total_demand\", \"forecast_demand\", \"lm2_forecast_demand_new\"]].rename({\"lm2_forecast_demand_new\":\"lm_prediction\"}, axis = 1).to_csv(\"data/results_LM.csv\")"
   ]
  },
  {
   "cell_type": "code",
   "execution_count": null,
   "metadata": {},
   "outputs": [],
   "source": []
  }
 ],
 "metadata": {
  "kernelspec": {
   "display_name": "Python 3",
   "language": "python",
   "name": "python3"
  },
  "language_info": {
   "codemirror_mode": {
    "name": "ipython",
    "version": 3
   },
   "file_extension": ".py",
   "mimetype": "text/x-python",
   "name": "python",
   "nbconvert_exporter": "python",
   "pygments_lexer": "ipython3",
   "version": "3.7.6"
  }
 },
 "nbformat": 4,
 "nbformat_minor": 4
}
